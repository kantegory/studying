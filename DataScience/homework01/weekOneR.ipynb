{
 "cells": [
  {
   "cell_type": "code",
   "execution_count": 2,
   "metadata": {},
   "outputs": [
    {
     "data": {
      "text/html": [
       "<table>\n",
       "<thead><tr><th scope=col>id</th><th scope=col>age</th><th scope=col>gender</th><th scope=col>height</th><th scope=col>weight</th><th scope=col>ap_hi</th><th scope=col>ap_lo</th><th scope=col>cholesterol</th><th scope=col>gluc</th><th scope=col>smoke</th><th scope=col>alco</th><th scope=col>active</th><th scope=col>cardio</th></tr></thead>\n",
       "<tbody>\n",
       "\t<tr><td>0    </td><td>18393</td><td>2    </td><td>168  </td><td>62   </td><td>110  </td><td> 80  </td><td>1    </td><td>1    </td><td>0    </td><td>0    </td><td>1    </td><td>0    </td></tr>\n",
       "\t<tr><td>1    </td><td>20228</td><td>1    </td><td>156  </td><td>85   </td><td>140  </td><td> 90  </td><td>3    </td><td>1    </td><td>0    </td><td>0    </td><td>1    </td><td>1    </td></tr>\n",
       "\t<tr><td>2    </td><td>18857</td><td>1    </td><td>165  </td><td>64   </td><td>130  </td><td> 70  </td><td>3    </td><td>1    </td><td>0    </td><td>0    </td><td>0    </td><td>1    </td></tr>\n",
       "\t<tr><td>3    </td><td>17623</td><td>2    </td><td>169  </td><td>82   </td><td>150  </td><td>100  </td><td>1    </td><td>1    </td><td>0    </td><td>0    </td><td>1    </td><td>1    </td></tr>\n",
       "\t<tr><td>4    </td><td>17474</td><td>1    </td><td>156  </td><td>56   </td><td>100  </td><td> 60  </td><td>1    </td><td>1    </td><td>0    </td><td>0    </td><td>0    </td><td>0    </td></tr>\n",
       "\t<tr><td>8    </td><td>21914</td><td>1    </td><td>151  </td><td>67   </td><td>120  </td><td> 80  </td><td>2    </td><td>2    </td><td>0    </td><td>0    </td><td>0    </td><td>0    </td></tr>\n",
       "</tbody>\n",
       "</table>\n"
      ],
      "text/latex": [
       "\\begin{tabular}{r|lllllllllllll}\n",
       " id & age & gender & height & weight & ap\\_hi & ap\\_lo & cholesterol & gluc & smoke & alco & active & cardio\\\\\n",
       "\\hline\n",
       "\t 0     & 18393 & 2     & 168   & 62    & 110   &  80   & 1     & 1     & 0     & 0     & 1     & 0    \\\\\n",
       "\t 1     & 20228 & 1     & 156   & 85    & 140   &  90   & 3     & 1     & 0     & 0     & 1     & 1    \\\\\n",
       "\t 2     & 18857 & 1     & 165   & 64    & 130   &  70   & 3     & 1     & 0     & 0     & 0     & 1    \\\\\n",
       "\t 3     & 17623 & 2     & 169   & 82    & 150   & 100   & 1     & 1     & 0     & 0     & 1     & 1    \\\\\n",
       "\t 4     & 17474 & 1     & 156   & 56    & 100   &  60   & 1     & 1     & 0     & 0     & 0     & 0    \\\\\n",
       "\t 8     & 21914 & 1     & 151   & 67    & 120   &  80   & 2     & 2     & 0     & 0     & 0     & 0    \\\\\n",
       "\\end{tabular}\n"
      ],
      "text/markdown": [
       "\n",
       "id | age | gender | height | weight | ap_hi | ap_lo | cholesterol | gluc | smoke | alco | active | cardio | \n",
       "|---|---|---|---|---|---|\n",
       "| 0     | 18393 | 2     | 168   | 62    | 110   |  80   | 1     | 1     | 0     | 0     | 1     | 0     | \n",
       "| 1     | 20228 | 1     | 156   | 85    | 140   |  90   | 3     | 1     | 0     | 0     | 1     | 1     | \n",
       "| 2     | 18857 | 1     | 165   | 64    | 130   |  70   | 3     | 1     | 0     | 0     | 0     | 1     | \n",
       "| 3     | 17623 | 2     | 169   | 82    | 150   | 100   | 1     | 1     | 0     | 0     | 1     | 1     | \n",
       "| 4     | 17474 | 1     | 156   | 56    | 100   |  60   | 1     | 1     | 0     | 0     | 0     | 0     | \n",
       "| 8     | 21914 | 1     | 151   | 67    | 120   |  80   | 2     | 2     | 0     | 0     | 0     | 0     | \n",
       "\n",
       "\n"
      ],
      "text/plain": [
       "  id age   gender height weight ap_hi ap_lo cholesterol gluc smoke alco active\n",
       "1 0  18393 2      168    62     110    80   1           1    0     0    1     \n",
       "2 1  20228 1      156    85     140    90   3           1    0     0    1     \n",
       "3 2  18857 1      165    64     130    70   3           1    0     0    0     \n",
       "4 3  17623 2      169    82     150   100   1           1    0     0    1     \n",
       "5 4  17474 1      156    56     100    60   1           1    0     0    0     \n",
       "6 8  21914 1      151    67     120    80   2           2    0     0    0     \n",
       "  cardio\n",
       "1 0     \n",
       "2 1     \n",
       "3 1     \n",
       "4 1     \n",
       "5 0     \n",
       "6 0     "
      ]
     },
     "metadata": {},
     "output_type": "display_data"
    }
   ],
   "source": [
    "df <- read.csv('mlbootcamp5_train.csv')\n",
    "head(df)"
   ]
  },
  {
   "cell_type": "markdown",
   "metadata": {},
   "source": [
    "### Задание 1.\n",
    "___Сколько мужчин и женщин представлено в этом наборе данных?___"
   ]
  },
  {
   "cell_type": "markdown",
   "metadata": {},
   "source": [
    "_Для начала выясним по среднему росту какой цифрой в наборе данных обозначаются гендеры обоих полов:_"
   ]
  },
  {
   "cell_type": "code",
   "execution_count": 23,
   "metadata": {},
   "outputs": [
    {
     "data": {
      "text/html": [
       "161.355611684604"
      ],
      "text/latex": [
       "161.355611684604"
      ],
      "text/markdown": [
       "161.355611684604"
      ],
      "text/plain": [
       "[1] 161.3556"
      ]
     },
     "metadata": {},
     "output_type": "display_data"
    },
    {
     "data": {
      "text/html": [
       "169.947895382101"
      ],
      "text/latex": [
       "169.947895382101"
      ],
      "text/markdown": [
       "169.947895382101"
      ],
      "text/plain": [
       "[1] 169.9479"
      ]
     },
     "metadata": {},
     "output_type": "display_data"
    }
   ],
   "source": [
    "mean(df$height[df$gender == 1])\n",
    "mean(df$height[df$gender == 2])"
   ]
  },
  {
   "cell_type": "markdown",
   "metadata": {},
   "source": [
    "_Вывод: цифрой \"2\" обозначаются мужчины, а \"1\" - женщины._ \n",
    "\n",
    "__Сосчитаем их количество:__"
   ]
  },
  {
   "cell_type": "code",
   "execution_count": 25,
   "metadata": {},
   "outputs": [
    {
     "data": {
      "text/html": [
       "45530"
      ],
      "text/latex": [
       "45530"
      ],
      "text/markdown": [
       "45530"
      ],
      "text/plain": [
       "[1] 45530"
      ]
     },
     "metadata": {},
     "output_type": "display_data"
    }
   ],
   "source": [
    "female <- which((df$gender == 1) == TRUE) # для упрощения дальнейшей работы введём отдельные переменные для обоих полов\n",
    "length(female)"
   ]
  },
  {
   "cell_type": "code",
   "execution_count": 24,
   "metadata": {},
   "outputs": [
    {
     "data": {
      "text/html": [
       "24470"
      ],
      "text/latex": [
       "24470"
      ],
      "text/markdown": [
       "24470"
      ],
      "text/plain": [
       "[1] 24470"
      ]
     },
     "metadata": {},
     "output_type": "display_data"
    }
   ],
   "source": [
    "male <- which((df$gender == 2) == TRUE)\n",
    "length(male)"
   ]
  },
  {
   "cell_type": "markdown",
   "metadata": {},
   "source": [
    "### Задание 2. \n",
    "___Кто в среднем реже указывает, что употребляет алкоголь – мужчины или женщины?___"
   ]
  },
  {
   "cell_type": "code",
   "execution_count": 33,
   "metadata": {},
   "outputs": [
    {
     "data": {
      "text/html": [
       "1161"
      ],
      "text/latex": [
       "1161"
      ],
      "text/markdown": [
       "1161"
      ],
      "text/plain": [
       "[1] 1161"
      ]
     },
     "metadata": {},
     "output_type": "display_data"
    }
   ],
   "source": [
    "alco_fem <- length(which((df$alco == 1) & (df$gender == 1)) == TRUE)\n",
    "alco_fem"
   ]
  },
  {
   "cell_type": "code",
   "execution_count": 34,
   "metadata": {},
   "outputs": [
    {
     "data": {
      "text/html": [
       "2603"
      ],
      "text/latex": [
       "2603"
      ],
      "text/markdown": [
       "2603"
      ],
      "text/plain": [
       "[1] 2603"
      ]
     },
     "metadata": {},
     "output_type": "display_data"
    }
   ],
   "source": [
    "alco_m <- length(which((df$alco == 1) & (df$gender == 2)) == TRUE)\n",
    "alco_m"
   ]
  },
  {
   "cell_type": "markdown",
   "metadata": {},
   "source": [
    "_Вывод: женщины в среднем реже указывают, что употребляют алкоголь._"
   ]
  },
  {
   "cell_type": "markdown",
   "metadata": {},
   "source": [
    "### Задание 3.\n",
    "___Во сколько раз (округленно) процент курящих среди мужчин больше, чем процент курящих среди женщин?___"
   ]
  },
  {
   "cell_type": "code",
   "execution_count": 42,
   "metadata": {},
   "outputs": [
    {
     "data": {
      "text/html": [
       "12"
      ],
      "text/latex": [
       "12"
      ],
      "text/markdown": [
       "12"
      ],
      "text/plain": [
       "[1] 12"
      ]
     },
     "metadata": {},
     "output_type": "display_data"
    }
   ],
   "source": [
    "per_smoke_fem <- (length(which((df$smoke == 1) & (df$gender == 1)) == TRUE) / length(female)) # считаем сразу в процентах\n",
    "per_smoke_m <- (length(which((df$smoke == 1) & (df$gender == 2)) == TRUE) / length(male))\n",
    "round(per_smoke_m / per_smoke_fem)"
   ]
  },
  {
   "cell_type": "markdown",
   "metadata": {},
   "source": [
    "_Вывод: процент курящих среди мужчин больше в 12 раз._"
   ]
  },
  {
   "cell_type": "markdown",
   "metadata": {},
   "source": [
    "### Задание 4.\n",
    "\n",
    "___1. В чём здесь измеряется возраст?___\n",
    "\n",
    "___2. На сколько месяцев (примерно) отличаются медианные значения возраста курящих и некурящих?___\n",
    "\n",
    "_Чтобы выяснить в чём измеряется возраст, выведем несколько записей:_ "
   ]
  },
  {
   "cell_type": "code",
   "execution_count": 53,
   "metadata": {},
   "outputs": [
    {
     "data": {
      "text/html": [
       "<ol class=list-inline>\n",
       "\t<li>18393</li>\n",
       "\t<li>20228</li>\n",
       "\t<li>18857</li>\n",
       "\t<li>17623</li>\n",
       "\t<li>17474</li>\n",
       "\t<li>21914</li>\n",
       "</ol>\n"
      ],
      "text/latex": [
       "\\begin{enumerate*}\n",
       "\\item 18393\n",
       "\\item 20228\n",
       "\\item 18857\n",
       "\\item 17623\n",
       "\\item 17474\n",
       "\\item 21914\n",
       "\\end{enumerate*}\n"
      ],
      "text/markdown": [
       "1. 18393\n",
       "2. 20228\n",
       "3. 18857\n",
       "4. 17623\n",
       "5. 17474\n",
       "6. 21914\n",
       "\n",
       "\n"
      ],
      "text/plain": [
       "[1] 18393 20228 18857 17623 17474 21914"
      ]
     },
     "metadata": {},
     "output_type": "display_data"
    }
   ],
   "source": [
    "head(df$age)"
   ]
  },
  {
   "cell_type": "markdown",
   "metadata": {},
   "source": [
    "_нетрудно догадаться, что возраст измеряется в днях._"
   ]
  },
  {
   "cell_type": "code",
   "execution_count": 45,
   "metadata": {},
   "outputs": [
    {
     "data": {
      "text/html": [
       "<table>\n",
       "<thead><tr><th scope=col>id</th><th scope=col>age</th><th scope=col>gender</th><th scope=col>height</th><th scope=col>weight</th><th scope=col>ap_hi</th><th scope=col>ap_lo</th><th scope=col>cholesterol</th><th scope=col>gluc</th><th scope=col>smoke</th><th scope=col>alco</th><th scope=col>active</th><th scope=col>cardio</th><th scope=col>age_years</th></tr></thead>\n",
       "<tbody>\n",
       "\t<tr><td>0    </td><td>18393</td><td>2    </td><td>168  </td><td>62   </td><td>110  </td><td> 80  </td><td>1    </td><td>1    </td><td>0    </td><td>0    </td><td>1    </td><td>0    </td><td>50   </td></tr>\n",
       "\t<tr><td>1    </td><td>20228</td><td>1    </td><td>156  </td><td>85   </td><td>140  </td><td> 90  </td><td>3    </td><td>1    </td><td>0    </td><td>0    </td><td>1    </td><td>1    </td><td>55   </td></tr>\n",
       "\t<tr><td>2    </td><td>18857</td><td>1    </td><td>165  </td><td>64   </td><td>130  </td><td> 70  </td><td>3    </td><td>1    </td><td>0    </td><td>0    </td><td>0    </td><td>1    </td><td>52   </td></tr>\n",
       "\t<tr><td>3    </td><td>17623</td><td>2    </td><td>169  </td><td>82   </td><td>150  </td><td>100  </td><td>1    </td><td>1    </td><td>0    </td><td>0    </td><td>1    </td><td>1    </td><td>48   </td></tr>\n",
       "\t<tr><td>4    </td><td>17474</td><td>1    </td><td>156  </td><td>56   </td><td>100  </td><td> 60  </td><td>1    </td><td>1    </td><td>0    </td><td>0    </td><td>0    </td><td>0    </td><td>48   </td></tr>\n",
       "\t<tr><td>8    </td><td>21914</td><td>1    </td><td>151  </td><td>67   </td><td>120  </td><td> 80  </td><td>2    </td><td>2    </td><td>0    </td><td>0    </td><td>0    </td><td>0    </td><td>60   </td></tr>\n",
       "</tbody>\n",
       "</table>\n"
      ],
      "text/latex": [
       "\\begin{tabular}{r|llllllllllllll}\n",
       " id & age & gender & height & weight & ap\\_hi & ap\\_lo & cholesterol & gluc & smoke & alco & active & cardio & age\\_years\\\\\n",
       "\\hline\n",
       "\t 0     & 18393 & 2     & 168   & 62    & 110   &  80   & 1     & 1     & 0     & 0     & 1     & 0     & 50   \\\\\n",
       "\t 1     & 20228 & 1     & 156   & 85    & 140   &  90   & 3     & 1     & 0     & 0     & 1     & 1     & 55   \\\\\n",
       "\t 2     & 18857 & 1     & 165   & 64    & 130   &  70   & 3     & 1     & 0     & 0     & 0     & 1     & 52   \\\\\n",
       "\t 3     & 17623 & 2     & 169   & 82    & 150   & 100   & 1     & 1     & 0     & 0     & 1     & 1     & 48   \\\\\n",
       "\t 4     & 17474 & 1     & 156   & 56    & 100   &  60   & 1     & 1     & 0     & 0     & 0     & 0     & 48   \\\\\n",
       "\t 8     & 21914 & 1     & 151   & 67    & 120   &  80   & 2     & 2     & 0     & 0     & 0     & 0     & 60   \\\\\n",
       "\\end{tabular}\n"
      ],
      "text/markdown": [
       "\n",
       "id | age | gender | height | weight | ap_hi | ap_lo | cholesterol | gluc | smoke | alco | active | cardio | age_years | \n",
       "|---|---|---|---|---|---|\n",
       "| 0     | 18393 | 2     | 168   | 62    | 110   |  80   | 1     | 1     | 0     | 0     | 1     | 0     | 50    | \n",
       "| 1     | 20228 | 1     | 156   | 85    | 140   |  90   | 3     | 1     | 0     | 0     | 1     | 1     | 55    | \n",
       "| 2     | 18857 | 1     | 165   | 64    | 130   |  70   | 3     | 1     | 0     | 0     | 0     | 1     | 52    | \n",
       "| 3     | 17623 | 2     | 169   | 82    | 150   | 100   | 1     | 1     | 0     | 0     | 1     | 1     | 48    | \n",
       "| 4     | 17474 | 1     | 156   | 56    | 100   |  60   | 1     | 1     | 0     | 0     | 0     | 0     | 48    | \n",
       "| 8     | 21914 | 1     | 151   | 67    | 120   |  80   | 2     | 2     | 0     | 0     | 0     | 0     | 60    | \n",
       "\n",
       "\n"
      ],
      "text/plain": [
       "  id age   gender height weight ap_hi ap_lo cholesterol gluc smoke alco active\n",
       "1 0  18393 2      168    62     110    80   1           1    0     0    1     \n",
       "2 1  20228 1      156    85     140    90   3           1    0     0    1     \n",
       "3 2  18857 1      165    64     130    70   3           1    0     0    0     \n",
       "4 3  17623 2      169    82     150   100   1           1    0     0    1     \n",
       "5 4  17474 1      156    56     100    60   1           1    0     0    0     \n",
       "6 8  21914 1      151    67     120    80   2           2    0     0    0     \n",
       "  cardio age_years\n",
       "1 0      50       \n",
       "2 1      55       \n",
       "3 1      52       \n",
       "4 1      48       \n",
       "5 0      48       \n",
       "6 0      60       "
      ]
     },
     "metadata": {},
     "output_type": "display_data"
    }
   ],
   "source": [
    "df$age_years <- round(df$age / 365) # для удобства создадим отдельную колонку с возрастом в годах\n",
    "head(df)"
   ]
  },
  {
   "cell_type": "markdown",
   "metadata": {},
   "source": [
    "_Теперь же вычислим медианный возраст курящих и некурящих:_"
   ]
  },
  {
   "cell_type": "code",
   "execution_count": 49,
   "metadata": {},
   "outputs": [],
   "source": [
    "median_smokers <- median(df$age_years[df$smoke == 1]) * 12 # для удобства будем сразу считать в месяцах\n",
    "median_non_smokers <- median(df$age_years[df$smoke == 0]) * 12"
   ]
  },
  {
   "cell_type": "markdown",
   "metadata": {},
   "source": [
    "_Вычислим разницу:_"
   ]
  },
  {
   "cell_type": "code",
   "execution_count": 50,
   "metadata": {},
   "outputs": [
    {
     "data": {
      "text/html": [
       "24"
      ],
      "text/latex": [
       "24"
      ],
      "text/markdown": [
       "24"
      ],
      "text/plain": [
       "[1] 24"
      ]
     },
     "metadata": {},
     "output_type": "display_data"
    }
   ],
   "source": [
    "median_non_smokers - median_smokers"
   ]
  },
  {
   "cell_type": "markdown",
   "metadata": {},
   "source": [
    "### Задание 5.\n",
    "___Интересуют 2 подвыборки курящих мужчин возраста от 60 до 64 лет включительно: первая с верхним артериальным давлением строго меньше 120 мм рт.ст. и концентрацией холестерина – 4 ммоль/л, а вторая – с верхним артериальным давлением от 160 (включительно) до 180 мм рт.ст. (не включительно) и концентрацией холестерина – 8 ммоль/л. Во сколько раз (округленно, round) отличаются доли больных людей (согласно целевому признаку, cardio) в этих двух подвыборках?___"
   ]
  },
  {
   "cell_type": "code",
   "execution_count": 52,
   "metadata": {},
   "outputs": [
    {
     "data": {
      "text/html": [
       "3"
      ],
      "text/latex": [
       "3"
      ],
      "text/markdown": [
       "3"
      ],
      "text/plain": [
       "[1] 3"
      ]
     },
     "metadata": {},
     "output_type": "display_data"
    }
   ],
   "source": [
    "d1 <- df$cardio[(df$gender == 2) & (df$age_years >=60) & (df$age_years <=64) & (df$smoke == 1) & (df$ap_hi < 120) & (df$cholesterol ==1)] \n",
    "d2 <- df$cardio[(df$gender == 2) & (df$age_years >=60) & (df$age_years <=64) & (df$smoke == 1) & (df$ap_hi >= 160) &(df$ap_hi < 180) & (df$cholesterol ==1)]\n",
    "round(mean(d2) / mean(d1))"
   ]
  },
  {
   "cell_type": "markdown",
   "metadata": {},
   "source": [
    "### Задание 6. \n",
    "___Постройте новый признак – BMI (Body Mass Index). Для этого надо вес в килограммах поделить на квадрат роста в метрах. Нормальными считаются значения BMI от 18.5 до 25.___\n",
    "\n",
    "___Выбрать верные утверждения:___\n",
    "1. Медианный BMI по выборке превышает норму.\n",
    "2. У женщин в среднем BMI ниже, чем у мужчин.\n",
    "3. У здоровых в среднем BMI выше, чем у больных.\n",
    "4. В сегменте здоровых и непьющих мужчин в среднем BMI ближе к норме, чем в сегменте здоровых и непьющих женщин."
   ]
  },
  {
   "cell_type": "code",
   "execution_count": 54,
   "metadata": {},
   "outputs": [],
   "source": [
    "df$height_m <- (df$height / 100) ** 2\n",
    "df$BMI <- df$weight / df$height_m"
   ]
  },
  {
   "cell_type": "markdown",
   "metadata": {},
   "source": [
    "_Проверим по очереди каждое из утверждений:_"
   ]
  },
  {
   "cell_type": "code",
   "execution_count": 56,
   "metadata": {},
   "outputs": [
    {
     "data": {
      "text/html": [
       "26"
      ],
      "text/latex": [
       "26"
      ],
      "text/markdown": [
       "26"
      ],
      "text/plain": [
       "[1] 26"
      ]
     },
     "metadata": {},
     "output_type": "display_data"
    }
   ],
   "source": [
    "median(round(df$BMI))"
   ]
  },
  {
   "cell_type": "code",
   "execution_count": 58,
   "metadata": {},
   "outputs": [
    {
     "data": {
      "text/html": [
       "28"
      ],
      "text/latex": [
       "28"
      ],
      "text/markdown": [
       "28"
      ],
      "text/plain": [
       "[1] 28"
      ]
     },
     "metadata": {},
     "output_type": "display_data"
    }
   ],
   "source": [
    "round(mean(df$BMI[female]))"
   ]
  },
  {
   "cell_type": "code",
   "execution_count": 59,
   "metadata": {},
   "outputs": [
    {
     "data": {
      "text/html": [
       "27"
      ],
      "text/latex": [
       "27"
      ],
      "text/markdown": [
       "27"
      ],
      "text/plain": [
       "[1] 27"
      ]
     },
     "metadata": {},
     "output_type": "display_data"
    }
   ],
   "source": [
    "round(mean(df$BMI[male]))"
   ]
  },
  {
   "cell_type": "code",
   "execution_count": 61,
   "metadata": {},
   "outputs": [
    {
     "data": {
      "text/html": [
       "27"
      ],
      "text/latex": [
       "27"
      ],
      "text/markdown": [
       "27"
      ],
      "text/plain": [
       "[1] 27"
      ]
     },
     "metadata": {},
     "output_type": "display_data"
    }
   ],
   "source": [
    "round(mean(df$BMI[which(df$cardio == 0)]))"
   ]
  },
  {
   "cell_type": "code",
   "execution_count": 62,
   "metadata": {},
   "outputs": [
    {
     "data": {
      "text/html": [
       "29"
      ],
      "text/latex": [
       "29"
      ],
      "text/markdown": [
       "29"
      ],
      "text/plain": [
       "[1] 29"
      ]
     },
     "metadata": {},
     "output_type": "display_data"
    }
   ],
   "source": [
    "round(mean(df$BMI[which(df$cardio == 1)]))"
   ]
  },
  {
   "cell_type": "code",
   "execution_count": 66,
   "metadata": {},
   "outputs": [
    {
     "data": {
      "text/html": [
       "26"
      ],
      "text/latex": [
       "26"
      ],
      "text/markdown": [
       "26"
      ],
      "text/plain": [
       "[1] 26"
      ]
     },
     "metadata": {},
     "output_type": "display_data"
    }
   ],
   "source": [
    "round(mean(df$BMI[which((df$alco == 0) & (df$cardio == 0) & (df$gender == 2) == TRUE)]))"
   ]
  },
  {
   "cell_type": "code",
   "execution_count": 67,
   "metadata": {},
   "outputs": [
    {
     "data": {
      "text/html": [
       "27"
      ],
      "text/latex": [
       "27"
      ],
      "text/markdown": [
       "27"
      ],
      "text/plain": [
       "[1] 27"
      ]
     },
     "metadata": {},
     "output_type": "display_data"
    }
   ],
   "source": [
    "round(mean(df$BMI[which((df$alco == 0) & (df$cardio == 0) & (df$gender == 1) == TRUE)]))"
   ]
  },
  {
   "cell_type": "markdown",
   "metadata": {},
   "source": [
    "_Вывод: верными являются утверждения 1, 4._"
   ]
  },
  {
   "cell_type": "markdown",
   "metadata": {},
   "source": [
    "### Задание 7. \n",
    "___Отфильтруйте следующие сегменты пациентов (считаем это ошибками в данных):___\n",
    "1. Указанное нижнее значение артериального давления строго выше верхнего.\n",
    "2. Рост строго меньше 2.5%-перцентили или строго больше 97.5%-перцентили.\n",
    "3. Вес строго меньше 2.5%-перцентили или строго больше 97.5%-перцентили.\n",
    "\n",
    "___Сколько процентов данных (округленно, round) мы выбросили?___"
   ]
  },
  {
   "cell_type": "code",
   "execution_count": 69,
   "metadata": {},
   "outputs": [
    {
     "data": {
      "text/html": [
       "10"
      ],
      "text/latex": [
       "10"
      ],
      "text/markdown": [
       "10"
      ],
      "text/plain": [
       "[1] 10"
      ]
     },
     "metadata": {},
     "output_type": "display_data"
    }
   ],
   "source": [
    "filtred_df <- length(df$BMI[(df$ap_hi >= df$ap_lo) & (df$height >= quantile(df$height, 0.025)) & (df$height <= quantile(df$height, 0.975)) & (df$weight >= quantile(df$weight, 0.025)) & (df$weight <= quantile(df$weight, 0.975))])\n",
    "unfiltred_df <- length(df$BMI)\n",
    "100 - round(filtred_df / unfiltred_df *100, 0)"
   ]
  }
 ],
 "metadata": {
  "kernelspec": {
   "display_name": "R",
   "language": "R",
   "name": "r"
  },
  "language_info": {
   "codemirror_mode": "r",
   "file_extension": ".r",
   "mimetype": "text/x-r-source",
   "name": "R",
   "pygments_lexer": "r",
   "version": "3.4.1"
  }
 },
 "nbformat": 4,
 "nbformat_minor": 2
}
