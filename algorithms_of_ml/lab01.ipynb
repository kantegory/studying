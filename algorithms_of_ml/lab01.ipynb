{
  "nbformat": 4,
  "nbformat_minor": 0,
  "metadata": {
    "colab": {
      "name": "8. Test.ipynb",
      "provenance": [],
      "collapsed_sections": [],
      "toc_visible": true
    },
    "kernelspec": {
      "display_name": "Python 3",
      "language": "python",
      "name": "python3"
    },
    "language_info": {
      "codemirror_mode": {
        "name": "ipython",
        "version": 3
      },
      "file_extension": ".py",
      "mimetype": "text/x-python",
      "name": "python",
      "nbconvert_exporter": "python",
      "pygments_lexer": "ipython3",
      "version": "3.7.4"
    }
  },
  "cells": [
    {
      "cell_type": "markdown",
      "metadata": {
        "colab_type": "text",
        "id": "BsNwjQDRfmLY"
      },
      "source": [
        "# Задание 1"
      ]
    },
    {
      "cell_type": "markdown",
      "metadata": {
        "colab_type": "text",
        "id": "wu6r1-s7fmLe"
      },
      "source": [
        "---"
      ]
    },
    {
      "cell_type": "markdown",
      "metadata": {
        "colab_type": "text",
        "id": "zxRIdPO9gYyX"
      },
      "source": [
        "Напишите программу, которая будет решать систему линейных уравнений вида:\n",
        "\n",
        "\\begin{matrix} a_{11}x+a_{12}y=b_{1}&(1) \\\\ a_{21}x+a_{22}y=b_{2} &(2) \\end{matrix}\n",
        "​\t\n",
        "На вход программа должна принимать 2 строки.\n",
        "\n",
        "Каждая строка содержит 3 действительных числа через пробел: коэффициенты a и b.\n",
        "\n",
        "На выходе программа должна выдавать значения x и y в одну строку через пробел.\n",
        " \n",
        "\n",
        "Примечание 1. Для разделения строки на отдельные элементы используйте функцию split()\n",
        "\n",
        "Примечание 2. В качестве разделителя между целой и дробной частью используйте точку, например 0.2"
      ]
    },
    {
      "cell_type": "code",
      "metadata": {
        "id": "hqPi9zEHbrjB",
        "colab_type": "code",
        "colab": {
          "base_uri": "https://localhost:8080/",
          "height": 104
        },
        "outputId": "7b191f32-a14b-4747-8c1f-6a6026a84c50"
      },
      "source": [
        "import numpy as np\n",
        "\n",
        "# Функция для решения СЛАУ методом Крамера\n",
        "def linear_equation_solver(a_11, a_12, b_1, a_21, a_22, b_2):\n",
        "  matrix_1 = np.array([[a_11, a_12], [a_21, a_22]])\n",
        "  matrix_2 = np.array([[b_1, a_12], [b_2, a_22]])\n",
        "  matrix_3 = np.array([[a_11, b_1], [a_21, b_2]])\n",
        "  \n",
        "  det_1 = np.linalg.det(matrix_1)\n",
        "  \n",
        "  if det_1:\n",
        "\n",
        "    det_2 = np.linalg.det(matrix_2)\n",
        "    det_3 = np.linalg.det(matrix_3)\n",
        "\n",
        "    x = det_2 / det_1\n",
        "    y = det_3 / det_1\n",
        "\n",
        "    return 'Решение: {} {}'.format(x, y)\n",
        "\n",
        "  return 'Нет решений'\n",
        "\n",
        "def main():\n",
        "  a_11, a_12, b_1 = map(float, input('Введите аргументы первого уравнения:\\n').split())\n",
        "  a_21, a_22, b_2 = map(float, input('Введите аргументы второго уравнения:\\n').split())\n",
        "\n",
        "  result = linear_equation_solver(a_11, a_12, b_1, a_21, a_22, b_2)\n",
        "\n",
        "  print(result)\n",
        "\n",
        "if __name__ == \"__main__\":\n",
        "  main()\n"
      ],
      "execution_count": 2,
      "outputs": [
        {
          "output_type": "stream",
          "text": [
            "Введите аргументы первого уравнения:\n",
            "3 -2 -6\n",
            "Введите аргументы второго уравнения:\n",
            "5 1 3\n",
            "Решение: 0.0 2.9999999999999996\n"
          ],
          "name": "stdout"
        }
      ]
    },
    {
      "cell_type": "markdown",
      "metadata": {
        "colab_type": "text",
        "id": "wLoVDMQnfmOv"
      },
      "source": [
        "# Задание 2"
      ]
    },
    {
      "cell_type": "markdown",
      "metadata": {
        "colab_type": "text",
        "id": "6bmt_YF3fmOw"
      },
      "source": [
        "Напишите функцию `decorate_matrix`, которая получает на вход одно целое число больше единицы. Функция должна возвращать матрицу n на n, у которой на границах стоят единицы, а на всех остальных позициях(если остались позиции не на границах) стоят нули.\n",
        "\n",
        "```\n",
        "# ожидаемый резальтат для аргумента 5\n",
        "array([[1., 1., 1., 1., 1.],\n",
        "[1., 0., 0., 0., 1.],\n",
        "[1., 0., 0., 0., 1.],\n",
        "[1., 0., 0., 0., 1.],\n",
        "[1., 1., 1., 1., 1.]])\n",
        "```\n",
        "\n"
      ]
    },
    {
      "cell_type": "code",
      "metadata": {
        "id": "V-yfvN_2fJot",
        "colab_type": "code",
        "colab": {
          "base_uri": "https://localhost:8080/",
          "height": 208
        },
        "outputId": "331deb8c-e9c2-480e-b915-afa5a9bb8d6b"
      },
      "source": [
        "import numpy as np\n",
        "\n",
        "# Функция декорирования матрицы\n",
        "def decorate_matrix(n):\n",
        "  if n < 2:\n",
        "    return \"Введённое значение меньше или равно единице\"\n",
        "\n",
        "  # сделаем матрицу из единичек\n",
        "  matrix = np.ones((n, n))\n",
        "\n",
        "  # пройдёмся по ней и заменим всё, что в центре на нули\n",
        "  for i in range(1, n - 1):\n",
        "    for j in range(1, n - 1):\n",
        "      matrix[i, j] = 0\n",
        "\n",
        "  return matrix\n",
        "\n",
        "\n",
        "def main():\n",
        "  n = int(input('Введите одно целое число больше единицы:\\n'))\n",
        "\n",
        "  result = decorate_matrix(n)\n",
        "  print('Результат:\\n', result)\n",
        "\n",
        "\n",
        "if __name__ == \"__main__\":\n",
        "  main()\n"
      ],
      "execution_count": 3,
      "outputs": [
        {
          "output_type": "stream",
          "text": [
            "Введите одно целое число больше единицы:\n",
            "8\n",
            "Результат:\n",
            " [[1. 1. 1. 1. 1. 1. 1. 1.]\n",
            " [1. 0. 0. 0. 0. 0. 0. 1.]\n",
            " [1. 0. 0. 0. 0. 0. 0. 1.]\n",
            " [1. 0. 0. 0. 0. 0. 0. 1.]\n",
            " [1. 0. 0. 0. 0. 0. 0. 1.]\n",
            " [1. 0. 0. 0. 0. 0. 0. 1.]\n",
            " [1. 0. 0. 0. 0. 0. 0. 1.]\n",
            " [1. 1. 1. 1. 1. 1. 1. 1.]]\n"
          ],
          "name": "stdout"
        }
      ]
    },
    {
      "cell_type": "markdown",
      "metadata": {
        "colab_type": "text",
        "id": "75sxny1zSCbl"
      },
      "source": [
        "# Задание 3"
      ]
    },
    {
      "cell_type": "markdown",
      "metadata": {
        "id": "2Xq1tBBAS5UJ",
        "colab_type": "text"
      },
      "source": [
        "1) реализуйте 2 функции:\n",
        "\n",
        "$f(x) = (x+a)^2 - b$ \n",
        "\n",
        "$g(x) = |f(x)|$\n",
        "\n",
        "2) Найдите аргументы, при которых достигается минимум функций $f(x)$ и $g(x)$\n",
        "\n",
        "Пример. \n",
        "Входные значение: $a=3$ и $b=4$\n",
        "\n",
        "Выходные значения:\n",
        "\n",
        "`-3.0 -1.0`"
      ]
    },
    {
      "cell_type": "code",
      "metadata": {
        "id": "3-v7Kz6I3Qjb",
        "colab_type": "code",
        "colab": {
          "base_uri": "https://localhost:8080/",
          "height": 121
        },
        "outputId": "f52cf418-2322-4fc0-96a4-cc580ad6bf92"
      },
      "source": [
        "from scipy.misc import derivative\n",
        "from sympy import *\n",
        "from sympy.solvers import solve\n",
        "\n",
        "\n",
        "def f(x):\n",
        "  return (x + a)**2 - b\n",
        "\n",
        "\n",
        "def g(x):\n",
        "  return abs(f(x))\n",
        "\n",
        "\n",
        "# Получаем минимум из экстремумов\n",
        "def classify_ext(ext, ftype='f'):\n",
        "  result = []\n",
        "  ext_vals = []\n",
        "\n",
        "  if len(ext) == 1:\n",
        "    result.append({'Значение': ext[0], 'Тип': 'Минимум'})\n",
        "    return result\n",
        "\n",
        "  for i in range(len(ext)):\n",
        "    ext_val = 0\n",
        "    _ext = ext[i]\n",
        "\n",
        "    if ftype == 'f':\n",
        "      ext_val = f(_ext)\n",
        "      ext_vals.append(ext_val)\n",
        "\n",
        "    elif ftype == 'g':\n",
        "      ext_val = g(_ext)\n",
        "      ext_vals.append(ext_val)\n",
        "\n",
        "  result.append({'Значение': ext[ext_vals.index(max(ext_vals))], 'Тип': 'Максимум'})\n",
        "\n",
        "  del ext[ext_vals.index(max(ext_vals))]\n",
        "\n",
        "  for _val in ext:\n",
        "    result.append({'Значение': _val, 'Тип': 'Минимум'})\n",
        "    \n",
        "  return result\n",
        "\n",
        "\n",
        "def main(x, a, b):\n",
        "\n",
        "  f_ext = [round(c, 1) for c in solve(derivative(f, x, dx=1e-6), x)]\n",
        "  f_res = classify_ext(f_ext, 'f')\n",
        "  print('Экстремумы f(x):', f_res)\n",
        "  \n",
        "  g_ext = [round(c, 1) for c in solve(derivative(g, x, dx=1e-6), x)]\n",
        "  g_res = classify_ext(g_ext, 'g')\n",
        "  print('Экстремумы g(x):', g_res)\n",
        "\n",
        "  return f_res, g_res\n",
        "\n",
        "\n",
        "if __name__ == \"__main__\":\n",
        "  x = Symbol('x', real=True)\n",
        "\n",
        "  a = int(input('Введите a:\\n'))\n",
        "  b = int(input('Введите b:\\n'))\n",
        "\n",
        "  f_res, g_res = main(x, a, b)\n"
      ],
      "execution_count": 4,
      "outputs": [
        {
          "output_type": "stream",
          "text": [
            "Введите a:\n",
            "3\n",
            "Введите b:\n",
            "4\n",
            "Экстремумы f(x): [{'Значение': -3.0, 'Тип': 'Минимум'}]\n",
            "Экстремумы g(x): [{'Значение': -3.0, 'Тип': 'Максимум'}, {'Значение': -5.0, 'Тип': 'Минимум'}, {'Значение': -1.0, 'Тип': 'Минимум'}]\n"
          ],
          "name": "stdout"
        }
      ]
    },
    {
      "cell_type": "markdown",
      "metadata": {
        "colab_type": "text",
        "id": "efml9GzISC9Q"
      },
      "source": [
        " # Задание 4"
      ]
    },
    {
      "cell_type": "markdown",
      "metadata": {
        "id": "SDZvKcsTVbAW",
        "colab_type": "text"
      },
      "source": [
        "Постройте графики для функций из предыдущего задания и отметьте другим цветом на графиках точки найденных минимумов."
      ]
    },
    {
      "cell_type": "code",
      "metadata": {
        "id": "c_js6RJS20On",
        "colab_type": "code",
        "colab": {
          "base_uri": "https://localhost:8080/",
          "height": 296
        },
        "outputId": "5b2b5a80-4a1b-4863-fa31-8943ff911291"
      },
      "source": [
        "import numpy as np\n",
        "import matplotlib.pyplot as plt\n",
        "\n",
        "x = np.linspace(-10, 10, 50)\n",
        "y = list(map(f, x))\n",
        "\n",
        "plt.plot(x, y)\n",
        "plt.ylabel(\"y\")\n",
        "plt.xlabel(\"x\")\n",
        "plt.scatter([f_res[0]['Значение']], [f(f_res[0]['Значение'])])\n"
      ],
      "execution_count": 5,
      "outputs": [
        {
          "output_type": "execute_result",
          "data": {
            "text/plain": [
              "<matplotlib.collections.PathCollection at 0x7f80d9bbf940>"
            ]
          },
          "metadata": {
            "tags": []
          },
          "execution_count": 5
        },
        {
          "output_type": "display_data",
          "data": {
            "image/png": "[encoded data removed]",
            "text/plain": [
              "<Figure size 432x288 with 1 Axes>"
            ]
          },
          "metadata": {
            "tags": [],
            "needs_background": "light"
          }
        }
      ]
    },
    {
      "cell_type": "code",
      "metadata": {
        "id": "60JjCPRy3wFk",
        "colab_type": "code",
        "colab": {
          "base_uri": "https://localhost:8080/",
          "height": 296
        },
        "outputId": "5a3eeeaa-7a2c-4a5b-b5e1-25d527147cf2"
      },
      "source": [
        "import numpy as np\n",
        "import matplotlib.pyplot as plt\n",
        "\n",
        "x = np.linspace(-10, 10, 50)\n",
        "y = list(map(g, x))\n",
        "\n",
        "plt.plot(x, y)\n",
        "plt.ylabel(\"y\")\n",
        "plt.xlabel(\"x\")\n",
        "plt.scatter([g_res[1]['Значение'], g_res[2]['Значение']], [g(g_res[1]['Значение']), g(g_res[2]['Значение'])])\n"
      ],
      "execution_count": 6,
      "outputs": [
        {
          "output_type": "execute_result",
          "data": {
            "text/plain": [
              "<matplotlib.collections.PathCollection at 0x7f80d9b53b00>"
            ]
          },
          "metadata": {
            "tags": []
          },
          "execution_count": 6
        },
        {
          "output_type": "display_data",
          "data": {
            "image/png": "[encoded data removed]",
            "text/plain": [
              "<Figure size 432x288 with 1 Axes>"
            ]
          },
          "metadata": {
            "tags": [],
            "needs_background": "light"
          }
        }
      ]
    },
    {
      "cell_type": "markdown",
      "metadata": {
        "colab_type": "text",
        "id": "mrby3EfiSDKJ"
      },
      "source": [
        "# Задание 5"
      ]
    },
    {
      "cell_type": "markdown",
      "metadata": {
        "id": "J6AZ8785VkQd",
        "colab_type": "text"
      },
      "source": [
        "1000 человек бросают монетку. Каждый бросил 10 раз подряд.\n",
        "\n",
        " 1. Какова вероятность того, что хотя бы у одного человека монетка выпала 10 раз подряд той же самой сторой (орлом или решкой)? \n",
        " 2. Какова вероятность того, что хотя бы у одного человека монетка выпала 8 раз подряд той же самой сторой (орлом или решкой)? \n",
        " 3. Какова вероятность того, что ровно у троих человек из 1000 монетка выпала 10 раз подряд той же самой сторой (орлом или решкой)?"
      ]
    },
    {
      "cell_type": "code",
      "metadata": {
        "id": "g9uI3QuI4SgH",
        "colab_type": "code",
        "colab": {
          "base_uri": "https://localhost:8080/",
          "height": 69
        },
        "outputId": "bc658f53-8a42-4237-b5a7-bd1a0fa50d56"
      },
      "source": [
        "import math\n",
        "\n",
        "def prob_task_one():\n",
        "  events_amount = 1000\n",
        "  toss_amount = 10\n",
        "  same_side_amount = 10\n",
        "  combinations_amount = 2**toss_amount\n",
        "  all_combinations_amount = math.factorial(toss_amount) / (math.factorial(same_side_amount) * math.factorial(toss_amount - same_side_amount))\n",
        "  prob = all_combinations_amount / combinations_amount\n",
        "  result = 1 - (1 - prob)**events_amount\n",
        "  return result\n",
        "\n",
        "print('Задача один:\\n')\n",
        "prob_task_one()\n"
      ],
      "execution_count": 7,
      "outputs": [
        {
          "output_type": "stream",
          "text": [
            "Задача один:\n",
            "\n"
          ],
          "name": "stdout"
        },
        {
          "output_type": "execute_result",
          "data": {
            "text/plain": [
              "0.623576201943276"
            ]
          },
          "metadata": {
            "tags": []
          },
          "execution_count": 7
        }
      ]
    },
    {
      "cell_type": "code",
      "metadata": {
        "id": "84MIsoYz6Zi4",
        "colab_type": "code",
        "colab": {
          "base_uri": "https://localhost:8080/",
          "height": 69
        },
        "outputId": "b7e7c165-2968-4ed0-a215-e2ea44fe2a1b"
      },
      "source": [
        "import math\n",
        "\n",
        "def prob_task_two():\n",
        "  events_amount = 1000\n",
        "  toss_amount = 10\n",
        "  same_side_amount = 8\n",
        "  combinations_amount = 2**toss_amount\n",
        "  all_combinations_amount = math.factorial(toss_amount) / (math.factorial(same_side_amount) * math.factorial(toss_amount - same_side_amount))\n",
        "  prob = all_combinations_amount / combinations_amount\n",
        "  result = 1 - (1 - prob)**events_amount\n",
        "  return result\n",
        "\n",
        "print('Задача два:\\n')\n",
        "prob_task_two()\n"
      ],
      "execution_count": 8,
      "outputs": [
        {
          "output_type": "stream",
          "text": [
            "Задача два:\n",
            "\n"
          ],
          "name": "stdout"
        },
        {
          "output_type": "execute_result",
          "data": {
            "text/plain": [
              "1.0"
            ]
          },
          "metadata": {
            "tags": []
          },
          "execution_count": 8
        }
      ]
    },
    {
      "cell_type": "code",
      "metadata": {
        "id": "TsGIEfrZ8ASL",
        "colab_type": "code",
        "colab": {
          "base_uri": "https://localhost:8080/",
          "height": 69
        },
        "outputId": "f7aee2f7-b1fb-4d99-db22-424e8d123aaa"
      },
      "source": [
        "import math\n",
        "\n",
        "def prob_task_three():\n",
        "  events_amount = 1000\n",
        "  toss_amount = 10\n",
        "  events_success = 3\n",
        "  prob = 2 / 2**toss_amount\n",
        "  not_prob = 1 - prob\n",
        "  all_combinations_amount = math.factorial(events_amount) / (math.factorial(events_success) * math.factorial(events_amount - events_success))\n",
        "  result = prob**events_success * all_combinations_amount * not_prob**(events_amount - events_success)\n",
        "  return result\n",
        "\n",
        "def main():\n",
        "  print('Задача три:\\n')\n",
        "  print(prob_task_three())\n",
        "\n",
        "if __name__ == \"__main__\":\n",
        "  main()\n"
      ],
      "execution_count": 9,
      "outputs": [
        {
          "output_type": "stream",
          "text": [
            "Задача три:\n",
            "\n",
            "0.1762873858121736\n"
          ],
          "name": "stdout"
        }
      ]
    }
  ]
}